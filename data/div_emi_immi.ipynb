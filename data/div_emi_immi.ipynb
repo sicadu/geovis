{
 "cells": [
  {
   "cell_type": "code",
   "execution_count": 2,
   "id": "e3894b29-d25c-4cdb-be22-323b07a8173f",
   "metadata": {},
   "outputs": [],
   "source": [
    "# Import and intizialize\n",
    "import pandas as pd\n",
    "import json\n",
    "from math import isnan\n"
   ]
  },
  {
   "cell_type": "code",
   "execution_count": 8,
   "id": "208083c4",
   "metadata": {},
   "outputs": [],
   "source": [
    "# Read datasets\n",
    "migration_flow = pd.read_csv('migration_flows_bilateral_2015_clean.csv')\n",
    "iso_codes = pd.read_csv('all.csv')"
   ]
  },
  {
   "cell_type": "code",
   "execution_count": 9,
   "id": "ed4dd32f-0db5-4ba2-9183-3de5d185fd95",
   "metadata": {},
   "outputs": [],
   "source": [
    "# Copy for splitting csv into two without changing the original variable\n",
    "immigrants = migration_flow.copy()\n",
    "emigrants = migration_flow.copy()\n",
    "\n",
    "# Immigrants\n",
    "immigrants = immigrants[immigrants.columns.drop(list(immigrants.filter(regex='EMIGRANTS')))]\n",
    "immigrants = immigrants.iloc[:,:-8]\n",
    "\n",
    "# Emigrants\n",
    "emigrants = emigrants[emigrants.columns.drop(list(emigrants.filter(regex='IMMIGRANTS')))]\n",
    "emigrants = emigrants.iloc[:,:-8] # drop last 8 columns since they are micro nations\n",
    "emigrants.columns = emigrants.columns.str.replace(\"EMIGRANTS_FROM_\",\"\")"
   ]
  },
  {
   "cell_type": "code",
   "execution_count": 10,
   "id": "3f1a1045-4d0b-4074-824d-d463809afb98",
   "metadata": {},
   "outputs": [],
   "source": [
    "# Create a dictionary to rename column names\n",
    "countries = emigrants.columns[2:] \n",
    "\n",
    "# Create a dictionary with country names as key and index as value\n",
    "country_dict = {key: json.dumps(idx) for idx, key in enumerate(countries)}\n",
    "\n",
    "# Replace column headers with numbers instead of country names\n",
    "emigrants.rename(columns=country_dict, inplace=True) \n",
    "\n",
    "# convert dataframe to dictionary\n",
    "flow = emigrants.iloc[:,2:].to_dict(orient='index')\n",
    "\n",
    "# remove all nan values so dictionary is clean \n",
    "for i in flow: \n",
    "    for j in list(flow[i]):\n",
    "        if isnan(flow[i][j]):\n",
    "            del flow[i][j]\n",
    "flower = json.dumps(flow)"
   ]
  },
  {
   "cell_type": "code",
   "execution_count": 12,
   "id": "77e1ff9e",
   "metadata": {},
   "outputs": [
    {
     "name": "stderr",
     "output_type": "stream",
     "text": [
      "C:\\Users\\silva\\AppData\\Local\\Temp\\ipykernel_35356\\3441384611.py:3: SettingWithCopyWarning: \n",
      "A value is trying to be set on a copy of a slice from a DataFrame.\n",
      "Try using .loc[row_indexer,col_indexer] = value instead\n",
      "\n",
      "See the caveats in the documentation: https://pandas.pydata.org/pandas-docs/stable/user_guide/indexing.html#returning-a-view-versus-a-copy\n",
      "  emigrants_15['flows'] = pd.Series(flow)\n",
      "C:\\Users\\silva\\AppData\\Local\\Temp\\ipykernel_35356\\3441384611.py:4: SettingWithCopyWarning: \n",
      "A value is trying to be set on a copy of a slice from a DataFrame.\n",
      "Try using .loc[row_indexer,col_indexer] = value instead\n",
      "\n",
      "See the caveats in the documentation: https://pandas.pydata.org/pandas-docs/stable/user_guide/indexing.html#returning-a-view-versus-a-copy\n",
      "  emigrants_15['short'] = emigrants_15['COUNTRY'].str[:4]\n"
     ]
    }
   ],
   "source": [
    "# Add the flow dictionary values to column in dataframe where the key is row number\n",
    "emigrants_15 = emigrants.iloc[:,1:2]\n",
    "emigrants_15['flows'] = pd.Series(flow)\n",
    "emigrants_15['short'] = emigrants_15['COUNTRY'].str[:4]"
   ]
  },
  {
   "cell_type": "code",
   "execution_count": 13,
   "id": "84a88f08",
   "metadata": {},
   "outputs": [],
   "source": [
    "# Rearrange iso dataset for join with migration dataset\n",
    "iso_codes['name'] = iso_codes['name'].str.upper()\n",
    "iso = iso_codes.iloc[:,:2]\n",
    "iso = iso.rename(columns = {'name':'COUNTRY', 'alpha-2':'ISO Code'})\n",
    "iso['short'] = iso['COUNTRY'].str[:4]\n",
    "iso = iso.iloc[:,1:3]\n",
    "\n",
    "# Actual join via merge()\n",
    "iso_emigrants = pd.merge(emigrants_15, iso, how=\"left\", on=['short'])"
   ]
  },
  {
   "cell_type": "code",
   "execution_count": 14,
   "id": "cc59dadb",
   "metadata": {},
   "outputs": [],
   "source": [
    "# Manual data cleaning -> future check if values are correctly assigned!\n",
    "\n",
    "# Cleaning ISO values\n",
    "iso_emigrants.xs(39)['ISO Code'] = 'CV'\n",
    "iso_emigrants.xs(40)['ISO Code'] = 'MQ' # As of now Martinique \n",
    "iso_emigrants.xs(44)['ISO Code'] = 'JE' # As of now Jersey\n",
    "iso_emigrants.xs(53)['ISO Code'] = 'CI'\n",
    "iso_emigrants.xs(59)['ISO Code'] = 'CD'\n",
    "iso_emigrants.xs(74)['ISO Code'] = 'FO'\n",
    "iso_emigrants.xs(125)['ISO Code'] = 'LA'\n",
    "iso_emigrants.xs(162)['ISO Code'] = 'NA'\n",
    "iso_emigrants.xs(193)['ISO Code'] = 'PF' # As of now French Polynesia\n",
    "iso_emigrants.xs(197)['ISO Code'] = 'RE'\n",
    "iso_emigrants.xs(323)['ISO Code'] = 'VA'\n",
    "\n",
    "# We do not have values for North/South Korea\n",
    "\n"
   ]
  },
  {
   "cell_type": "code",
   "execution_count": 8,
   "id": "1751cf04",
   "metadata": {},
   "outputs": [],
   "source": [
    "# Create a csv file to join in arcGis\n",
    "iso_emigrants.to_csv('emi_15_flow.csv', index=False, encoding='utf-8')"
   ]
  },
  {
   "cell_type": "code",
   "execution_count": 2,
   "id": "27aafa56",
   "metadata": {},
   "outputs": [],
   "source": [
    "# Import and intizialize\n",
    "import pandas as pd\n",
    "import json\n",
    "from math import isnan"
   ]
  },
  {
   "cell_type": "code",
   "execution_count": 28,
   "id": "f92dff93",
   "metadata": {},
   "outputs": [],
   "source": [
    "# Reintroduce the argis geoJson for further processing\n",
    "f = open('i20.geoJson', 'r')\n",
    "data = json.load(f)\n",
    "f.close()"
   ]
  },
  {
   "cell_type": "code",
   "execution_count": 29,
   "id": "6d31f893",
   "metadata": {},
   "outputs": [],
   "source": [
    "for i in range(len(data['features'])):\n",
    "    string = data['features'][i]['properties']['flows']\n",
    "    string = string.replace(\"'\",'\"') \n",
    "    data['features'][i]['properties']['flows'] = json.loads(string)"
   ]
  },
  {
   "cell_type": "code",
   "execution_count": 10,
   "id": "4559c11a",
   "metadata": {},
   "outputs": [
    {
     "ename": "NameError",
     "evalue": "name 'iso_emigrants' is not defined",
     "output_type": "error",
     "traceback": [
      "\u001b[1;31m---------------------------------------------------------------------------\u001b[0m",
      "\u001b[1;31mNameError\u001b[0m                                 Traceback (most recent call last)",
      "\u001b[1;32mc:\\Users\\silva\\OneDrive - Universität Zürich UZH\\Documents\\University\\Geovisualisation\\Projekt\\WebDev\\data\\div_emi_immi.ipynb Cell 12'\u001b[0m in \u001b[0;36m<cell line: 2>\u001b[1;34m()\u001b[0m\n\u001b[0;32m      <a href='vscode-notebook-cell:/c%3A/Users/silva/OneDrive%20-%20Universit%C3%A4t%20Z%C3%BCrich%20UZH/Documents/University/Geovisualisation/Projekt/WebDev/data/div_emi_immi.ipynb#ch0000009?line=0'>1</a>\u001b[0m \u001b[39m# Change flows to json format instead of string\u001b[39;00m\n\u001b[0;32m      <a href='vscode-notebook-cell:/c%3A/Users/silva/OneDrive%20-%20Universit%C3%A4t%20Z%C3%BCrich%20UZH/Documents/University/Geovisualisation/Projekt/WebDev/data/div_emi_immi.ipynb#ch0000009?line=1'>2</a>\u001b[0m \u001b[39mfor\u001b[39;00m i \u001b[39min\u001b[39;00m \u001b[39mrange\u001b[39m(\u001b[39mlen\u001b[39m(data[\u001b[39m'\u001b[39m\u001b[39mfeatures\u001b[39m\u001b[39m'\u001b[39m])):\n\u001b[1;32m----> <a href='vscode-notebook-cell:/c%3A/Users/silva/OneDrive%20-%20Universit%C3%A4t%20Z%C3%BCrich%20UZH/Documents/University/Geovisualisation/Projekt/WebDev/data/div_emi_immi.ipynb#ch0000009?line=2'>3</a>\u001b[0m     flow_json \u001b[39m=\u001b[39m iso_emigrants[\u001b[39m'\u001b[39m\u001b[39mflows\u001b[39m\u001b[39m'\u001b[39m][i]\n\u001b[0;32m      <a href='vscode-notebook-cell:/c%3A/Users/silva/OneDrive%20-%20Universit%C3%A4t%20Z%C3%BCrich%20UZH/Documents/University/Geovisualisation/Projekt/WebDev/data/div_emi_immi.ipynb#ch0000009?line=3'>4</a>\u001b[0m     data[\u001b[39m'\u001b[39m\u001b[39mfeatures\u001b[39m\u001b[39m'\u001b[39m][i][\u001b[39m'\u001b[39m\u001b[39mproperties\u001b[39m\u001b[39m'\u001b[39m][\u001b[39m'\u001b[39m\u001b[39mflows\u001b[39m\u001b[39m'\u001b[39m] \u001b[39m=\u001b[39m json\u001b[39m.\u001b[39mdumps(flow_json)\n\u001b[0;32m      <a href='vscode-notebook-cell:/c%3A/Users/silva/OneDrive%20-%20Universit%C3%A4t%20Z%C3%BCrich%20UZH/Documents/University/Geovisualisation/Projekt/WebDev/data/div_emi_immi.ipynb#ch0000009?line=5'>6</a>\u001b[0m \u001b[39mfor\u001b[39;00m i \u001b[39min\u001b[39;00m \u001b[39mrange\u001b[39m(\u001b[39mlen\u001b[39m(data[\u001b[39m'\u001b[39m\u001b[39mfeatures\u001b[39m\u001b[39m'\u001b[39m])):\n",
      "\u001b[1;31mNameError\u001b[0m: name 'iso_emigrants' is not defined"
     ]
    }
   ],
   "source": [
    "# Change flows to json format instead of string\n",
    "for i in range(len(data['features'])):\n",
    "    flow_json = iso_emigrants['flows'][i]\n",
    "    data['features'][i]['properties']['flows'] = json.dumps(flow_json)\n",
    "\n",
    "for i in range(len(data['features'])):\n",
    "    flow_json = json.loads(data['features'][i]['properties']['flows'])\n",
    "    data['features'][i]['properties']['flows'] = flow_json"
   ]
  },
  {
   "cell_type": "code",
   "execution_count": 30,
   "id": "dd5783b4",
   "metadata": {},
   "outputs": [],
   "source": [
    "# Create a centroid attribute where x,y are elements in list centroid \n",
    "for i in data['features']:\n",
    "    i['geometry']['centroid'] = [i['properties']['X'],i['properties']['Y']]\n",
    "\n",
    "# X is long, y is lat in dataset from arcgis"
   ]
  },
  {
   "cell_type": "code",
   "execution_count": 31,
   "id": "135777de",
   "metadata": {},
   "outputs": [
    {
     "data": {
      "text/plain": [
       "{'OBJECTID': 7,\n",
       " 'Country': '6',\n",
       " 'ISO Code': 'WS',\n",
       " 'Affiliation': 'Samoa',\n",
       " 'Affiliation ISO Code': 'WS',\n",
       " 'X': -172.1594594644777,\n",
       " 'Y': -13.758366525659419,\n",
       " 'Shape_Length': 3.0196618946939964,\n",
       " 'Shape_Area': 0.24551890561299944,\n",
       " 'ID': 6,\n",
       " 'COUNTRY': 'SAMOA',\n",
       " 'flows': {'3': -15880.0,\n",
       "  '11': -32754.0,\n",
       "  '12': -6.0,\n",
       "  '19': -6.0,\n",
       "  '30': -5.0,\n",
       "  '35': -171.0,\n",
       "  '37': 0,\n",
       "  '47': -9.0,\n",
       "  '54': 0.0,\n",
       "  '56': -22.0,\n",
       "  '70': -302.0,\n",
       "  '71': -2.0,\n",
       "  '72': -18.0,\n",
       "  '81': -455.0,\n",
       "  '87': -25.0,\n",
       "  '92': -1.0,\n",
       "  '98': -13.0,\n",
       "  '101': -63.0,\n",
       "  '117': 0.0,\n",
       "  '142': -25.0,\n",
       "  '144': -57947.0,\n",
       "  '148': -44.0,\n",
       "  '151': -3.0,\n",
       "  '176': 4021.0,\n",
       "  '186': 0.0,\n",
       "  '196': -27.0,\n",
       "  '197': -15.0,\n",
       "  '204': -195.0,\n",
       "  '205': -217.0,\n",
       "  '211': -2.0,\n",
       "  '215': -319.0,\n",
       "  '216': -27186.0},\n",
       " 'short': 'SAMOA'}"
      ]
     },
     "execution_count": 31,
     "metadata": {},
     "output_type": "execute_result"
    }
   ],
   "source": [
    "data['features'][5]['properties']"
   ]
  },
  {
   "cell_type": "code",
   "execution_count": 32,
   "id": "488da658",
   "metadata": {},
   "outputs": [],
   "source": [
    "# Write Json File\n",
    "json_object = json.dumps(data)\n",
    "with open('i20.json', 'w') as outfile:\n",
    "    outfile.write(json_object)\n"
   ]
  }
 ],
 "metadata": {
  "kernelspec": {
   "display_name": "Python 3 (ipykernel)",
   "language": "python",
   "name": "python3"
  },
  "language_info": {
   "codemirror_mode": {
    "name": "ipython",
    "version": 3
   },
   "file_extension": ".py",
   "mimetype": "text/x-python",
   "name": "python",
   "nbconvert_exporter": "python",
   "pygments_lexer": "ipython3",
   "version": "3.9.12"
  }
 },
 "nbformat": 4,
 "nbformat_minor": 5
}
