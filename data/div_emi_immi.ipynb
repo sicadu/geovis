{
 "cells": [
  {
   "cell_type": "code",
   "execution_count": null,
   "id": "e3894b29-d25c-4cdb-be22-323b07a8173f",
   "metadata": {},
   "outputs": [],
   "source": [
    "# Import and intizialize\n",
    "import pandas as pd\n",
    "import json\n",
    "from math import isnan\n"
   ]
  },
  {
   "cell_type": "code",
   "execution_count": null,
   "id": "208083c4",
   "metadata": {},
   "outputs": [],
   "source": [
    "# Read datasets\n",
    "migration_flow = pd.read_csv('migration_flows_bilateral_2015_clean.csv')\n",
    "iso_codes = pd.read_csv('all.csv')"
   ]
  },
  {
   "cell_type": "code",
   "execution_count": null,
   "id": "ed4dd32f-0db5-4ba2-9183-3de5d185fd95",
   "metadata": {},
   "outputs": [],
   "source": [
    "# Copy for splitting csv into two without changing the original variable\n",
    "immigrants = migration_flow.copy()\n",
    "emigrants = migration_flow.copy()\n",
    "\n",
    "# Immigrants\n",
    "immigrants = immigrants[immigrants.columns.drop(list(immigrants.filter(regex='EMIGRANTS')))]\n",
    "immigrants = immigrants.iloc[:,:-8]\n",
    "\n",
    "# Emigrants\n",
    "emigrants = emigrants[emigrants.columns.drop(list(emigrants.filter(regex='IMMIGRANTS')))]\n",
    "emigrants = emigrants.iloc[:,:-8] # drop last 8 columns since they are micro nations\n",
    "emigrants.columns = emigrants.columns.str.replace(\"EMIGRANTS_FROM_\",\"\")"
   ]
  },
  {
   "cell_type": "code",
   "execution_count": null,
   "id": "3f1a1045-4d0b-4074-824d-d463809afb98",
   "metadata": {},
   "outputs": [],
   "source": [
    "# Create a dictionary to rename column names\n",
    "countries = emigrants.columns[2:] \n",
    "\n",
    "# Create a dictionary with country names as key and index as value\n",
    "country_dict = {key: json.dumps(idx) for idx, key in enumerate(countries)}\n",
    "\n",
    "# Replace column headers with numbers instead of country names\n",
    "emigrants.rename(columns=country_dict, inplace=True) \n",
    "\n",
    "# convert dataframe to dictionary\n",
    "flow = emigrants.iloc[:,2:].to_dict(orient='index')\n",
    "\n",
    "# remove all nan values so dictionary is clean \n",
    "for i in flow: \n",
    "    for j in list(flow[i]):\n",
    "        if isnan(flow[i][j]):\n",
    "            del flow[i][j]\n",
    "flower = json.dumps(flow)"
   ]
  },
  {
   "cell_type": "code",
   "execution_count": null,
   "id": "77e1ff9e",
   "metadata": {},
   "outputs": [],
   "source": [
    "# Add the flow dictionary values to column in dataframe where the key is row number\n",
    "emigrants_15 = emigrants.iloc[:,1:2]\n",
    "emigrants_15['flows'] = pd.Series(flow)\n",
    "emigrants_15['short'] = emigrants_15['COUNTRY'].str[:4]"
   ]
  },
  {
   "cell_type": "code",
   "execution_count": null,
   "id": "84a88f08",
   "metadata": {},
   "outputs": [],
   "source": [
    "# Rearrange iso dataset for join with migration dataset\n",
    "iso_codes['name'] = iso_codes['name'].str.upper()\n",
    "iso = iso_codes.iloc[:,:2]\n",
    "iso = iso.rename(columns = {'name':'COUNTRY', 'alpha-2':'ISO Code'})\n",
    "iso['short'] = iso['COUNTRY'].str[:4]\n",
    "iso = iso.iloc[:,1:3]\n",
    "\n",
    "# Actual join via merge()\n",
    "iso_emigrants = pd.merge(emigrants_15, iso, how=\"left\", on=['short'])"
   ]
  },
  {
   "cell_type": "code",
   "execution_count": null,
   "id": "cc59dadb",
   "metadata": {},
   "outputs": [],
   "source": [
    "# Manual data cleaning -> future check if values are correctly assigned!\n",
    "\n",
    "# Cleaning ISO values\n",
    "iso_emigrants.xs(39)['ISO Code'] = 'CV'\n",
    "iso_emigrants.xs(40)['ISO Code'] = 'MQ' # As of now Martinique \n",
    "iso_emigrants.xs(44)['ISO Code'] = 'JE' # As of now Jersey\n",
    "iso_emigrants.xs(53)['ISO Code'] = 'CI'\n",
    "iso_emigrants.xs(59)['ISO Code'] = 'CD'\n",
    "iso_emigrants.xs(74)['ISO Code'] = 'FO'\n",
    "iso_emigrants.xs(125)['ISO Code'] = 'LA'\n",
    "iso_emigrants.xs(162)['ISO Code'] = 'NA'\n",
    "iso_emigrants.xs(193)['ISO Code'] = 'PF' # As of now French Polynesia\n",
    "iso_emigrants.xs(197)['ISO Code'] = 'RE'\n",
    "iso_emigrants.xs(323)['ISO Code'] = 'VA'\n",
    "\n",
    "# We do not have values for North/South Korea\n",
    "\n"
   ]
  },
  {
   "cell_type": "code",
   "execution_count": null,
   "id": "1751cf04",
   "metadata": {},
   "outputs": [],
   "source": [
    "# Create a csv file to join in arcGis\n",
    "iso_emigrants.to_csv('emi_15_flow.csv', index=False, encoding='utf-8')"
   ]
  },
  {
   "cell_type": "code",
   "execution_count": 50,
   "id": "27aafa56",
   "metadata": {},
   "outputs": [],
   "source": [
    "# Import and intizialize\n",
    "import pandas as pd\n",
    "import json\n",
    "from math import isnan"
   ]
  },
  {
   "cell_type": "code",
   "execution_count": null,
   "id": "f92dff93",
   "metadata": {},
   "outputs": [],
   "source": [
    "# Reintroduce the argis geoJson for further processing\n",
    "f = open('i20.geoJson', 'r')\n",
    "data = json.load(f)\n",
    "f.close()"
   ]
  },
  {
   "cell_type": "code",
   "execution_count": null,
   "id": "6d31f893",
   "metadata": {},
   "outputs": [],
   "source": [
    "for i in range(len(data['features'])):\n",
    "    string = data['features'][i]['properties']['flows']\n",
    "    string = string.replace(\"'\",'\"') \n",
    "    data['features'][i]['properties']['flows'] = json.loads(string)"
   ]
  },
  {
   "cell_type": "code",
   "execution_count": null,
   "id": "4559c11a",
   "metadata": {},
   "outputs": [],
   "source": [
    "# Change flows to json format instead of string\n",
    "for i in range(len(data['features'])):\n",
    "    flow_json = iso_emigrants['flows'][i]\n",
    "    data['features'][i]['properties']['flows'] = json.dumps(flow_json)\n",
    "\n",
    "for i in range(len(data['features'])):\n",
    "    flow_json = json.loads(data['features'][i]['properties']['flows'])\n",
    "    data['features'][i]['properties']['flows'] = flow_json"
   ]
  },
  {
   "cell_type": "code",
   "execution_count": null,
   "id": "dd5783b4",
   "metadata": {},
   "outputs": [],
   "source": [
    "# Create a centroid attribute where x,y are elements in list centroid \n",
    "for i in data['features']:\n",
    "    i['geometry']['centroid'] = [i['properties']['X'],i['properties']['Y']]\n",
    "\n",
    "# X is long, y is lat in dataset from arcgis"
   ]
  },
  {
   "cell_type": "code",
   "execution_count": null,
   "id": "135777de",
   "metadata": {},
   "outputs": [],
   "source": [
    "data['features'][5]['properties']"
   ]
  },
  {
   "cell_type": "code",
   "execution_count": null,
   "id": "488da658",
   "metadata": {},
   "outputs": [],
   "source": [
    "# Write Json File\n",
    "json_object = json.dumps(data)\n",
    "with open('i20.json', 'w') as outfile:\n",
    "    outfile.write(json_object)\n"
   ]
  },
  {
   "cell_type": "markdown",
   "id": "85d81d8b",
   "metadata": {},
   "source": [
    "Part ot calculate the difference in migration between the years:"
   ]
  },
  {
   "cell_type": "code",
   "execution_count": 51,
   "id": "2cdfbf54",
   "metadata": {},
   "outputs": [],
   "source": [
    "# Reintroduce the argis geoJson for further processing\n",
    "f = open('i20.json', 'r')\n",
    "i20 = json.load(f)\n",
    "f.close()\n",
    "\n",
    "f = open('i15.json', 'r')\n",
    "i15 = json.load(f)\n",
    "f.close()\n",
    "\n",
    "f = open('i10.json', 'r')\n",
    "i10 = json.load(f)\n",
    "f.close()\n",
    "\n",
    "f = open('e20.json', 'r')\n",
    "e20 = json.load(f)\n",
    "f.close()\n",
    "\n",
    "f = open('e15.json', 'r')\n",
    "e15 = json.load(f)\n",
    "f.close()\n",
    "\n",
    "f = open('e10.json', 'r')\n",
    "e10 = json.load(f)\n",
    "f.close()"
   ]
  },
  {
   "cell_type": "code",
   "execution_count": null,
   "id": "02258f04",
   "metadata": {},
   "outputs": [],
   "source": [
    "## Iterate through flows of every country and then compare it key in order to match & subtract\n",
    "\n",
    "e15_20 = []\n",
    "\n",
    "i20['features'][i]['properties']['flows']\n",
    "\n",
    "counter = 0\n",
    "\n",
    "for i in range(len(e20['features'])):\n",
    "        for key in e15['features'][i]['properties']['flows']:\n",
    "            k = e20['features'][i]['properties']['flows'][key]\n",
    "            l = e15['features'][i]['properties']['flows'][key]\n",
    "            value = k-l\n",
    "            e15_20.append({key: value})\n",
    "\n"
   ]
  },
  {
   "cell_type": "code",
   "execution_count": 52,
   "id": "9d14d413",
   "metadata": {},
   "outputs": [],
   "source": [
    "e20_w0 = e20.copy()\n",
    "\n",
    "for i in range(len(e20['features'])):\n",
    "    new_flows = {key:val for key,val in e20['features'][i]['properties']['flows'].items() if val != 0}\n",
    "    e20_w0['features'][i]['properties']['flows'] = new_flows\n",
    "\n",
    "# Write Json File\n",
    "json_object = json.dumps(e20_w0)\n",
    "with open('e20_w0.json', 'w') as outfile:\n",
    "    outfile.write(json_object)\n",
    "           "
   ]
  },
  {
   "cell_type": "code",
   "execution_count": 60,
   "id": "33fb75c0",
   "metadata": {},
   "outputs": [],
   "source": [
    "i20_w0 = i20.copy()\n",
    "\n",
    "for i in range(len(i20['features'])):\n",
    "    new_flows = {key:(int(val)*(-1)) for key,val in i20['features'][i]['properties']['flows'].items() if val != 0}\n",
    "    i20_w0['features'][i]['properties']['flows'] = new_flows\n",
    "    \n",
    "\n",
    "json_object = json.dumps(i20_w0)\n",
    "with open('i20_w0.json', 'w') as outfile:\n",
    "    outfile.write(json_object)"
   ]
  },
  {
   "cell_type": "code",
   "execution_count": 63,
   "id": "5cccc4a9",
   "metadata": {},
   "outputs": [
    {
     "data": {
      "text/plain": [
       "228"
      ]
     },
     "execution_count": 63,
     "metadata": {},
     "output_type": "execute_result"
    }
   ],
   "source": [
    "feature = i20_w0['features'][0]['properties']['flows']\n",
    "\n",
    "len(i20_w0['features'])\n"
   ]
  }
 ],
 "metadata": {
  "interpreter": {
   "hash": "172a5ce276eb1d0d801a9beadd7c9d3aac7210a29cee87eb8cc563f5ca08be0c"
  },
  "kernelspec": {
   "display_name": "Python 3.9.12 ('base')",
   "language": "python",
   "name": "python3"
  },
  "language_info": {
   "codemirror_mode": {
    "name": "ipython",
    "version": 3
   },
   "file_extension": ".py",
   "mimetype": "text/x-python",
   "name": "python",
   "nbconvert_exporter": "python",
   "pygments_lexer": "ipython3",
   "version": "3.9.12"
  }
 },
 "nbformat": 4,
 "nbformat_minor": 5
}
