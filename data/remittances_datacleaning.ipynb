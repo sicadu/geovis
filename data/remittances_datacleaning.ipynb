{
 "cells": [
  {
   "cell_type": "code",
   "execution_count": 1,
   "id": "719bd42c-cd26-40b7-bfa6-8b1d545d3dfb",
   "metadata": {},
   "outputs": [],
   "source": [
    " # Import and intizialize\n",
    "import pandas as pd\n",
    "import json\n",
    "\n"
   ]
  },
  {
   "cell_type": "code",
   "execution_count": null,
   "id": "aace339b-9227-4490-8663-88db519b4575",
   "metadata": {},
   "outputs": [],
   "source": [
    "# Read datasets\n",
    "#migration_flow = pd.read_csv('migration_flows_bilateral_2015_clean.csv')\n",
    "#iso_codes = pd.read_csv('all.csv')\n"
   ]
  }
 ],
 "metadata": {
  "kernelspec": {
   "display_name": "Python 3 (ipykernel)",
   "language": "python",
   "name": "python3"
  },
  "language_info": {
   "codemirror_mode": {
    "name": "ipython",
    "version": 3
   },
   "file_extension": ".py",
   "mimetype": "text/x-python",
   "name": "python",
   "nbconvert_exporter": "python",
   "pygments_lexer": "ipython3",
   "version": "3.9.7"
  }
 },
 "nbformat": 4,
 "nbformat_minor": 5
}
