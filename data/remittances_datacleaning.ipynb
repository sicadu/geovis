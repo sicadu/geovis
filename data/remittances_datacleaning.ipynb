{
 "cells": [
  {
   "cell_type": "code",
   "execution_count": 1,
   "id": "719bd42c-cd26-40b7-bfa6-8b1d545d3dfb",
   "metadata": {},
   "outputs": [],
   "source": [
    " # Import and intizialize\n",
    "import pandas as pd\n",
    "import json\n",
    "\n"
   ]
  },
  {
   "cell_type": "code",
   "execution_count": 4,
   "id": "aace339b-9227-4490-8663-88db519b4575",
   "metadata": {},
   "outputs": [],
   "source": [
    "# Read datasets\n",
    "df = pd.read_csv('remittances_IN_PROP_centroid_millions.csv')\n",
    "df = pd.read_csv('remittances_OUT_PROP_centroid_millions.csv')\n"
   ]
  },
  {
   "cell_type": "code",
   "execution_count": 5,
   "id": "958fa92c",
   "metadata": {},
   "outputs": [],
   "source": [
    "df.head\n",
    "# Save csv to json\n",
    "df.to_json('remittances_IN_PROP_centroid_millions.json')\n",
    "df.to_json('remittances_OUT_PROP_centroid_millions.json')"
   ]
  },
  {
   "cell_type": "code",
   "execution_count": null,
   "id": "c1a0da82",
   "metadata": {},
   "outputs": [],
   "source": []
  }
 ],
 "metadata": {
  "kernelspec": {
   "display_name": "Python 3 (ipykernel)",
   "language": "python",
   "name": "python3"
  },
  "language_info": {
   "codemirror_mode": {
    "name": "ipython",
    "version": 3
   },
   "file_extension": ".py",
   "mimetype": "text/x-python",
   "name": "python",
   "nbconvert_exporter": "python",
   "pygments_lexer": "ipython3",
   "version": "3.9.7"
  }
 },
 "nbformat": 4,
 "nbformat_minor": 5
}
